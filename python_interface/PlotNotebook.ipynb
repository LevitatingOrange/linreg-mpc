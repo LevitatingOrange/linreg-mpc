{
 "cells": [
  {
   "cell_type": "code",
   "execution_count": 1,
   "metadata": {},
   "outputs": [],
   "source": [
    "import MPCLinearRegression\n",
    "\n",
    "m = MPCLinearRegression.MPCLinearRegression(\"localhost:1234\", \"localhost:1235\")"
   ]
  },
  {
   "cell_type": "code",
   "execution_count": 2,
   "metadata": {},
   "outputs": [
    {
     "name": "stdout",
     "output_type": "stream",
     "text": [
      "localhost:1234 waiting for peer localhost:1235\n",
      "Parameters exchanged\n",
      "Generating csv file...\n",
      "csv file generated: /tmp/tmpo1n2mh5e\n",
      "Starting DP1 on localhost:1234\n",
      "Starting CSP on localhost:1244\n",
      "Waiting for result...\n"
     ]
    }
   ],
   "source": [
    "\n",
    "m.fit(csv_file=\"/tmp/VA_Testdaten_Körpergröße.csv\", owned_columns=\"4\")"
   ]
  },
  {
   "cell_type": "code",
   "execution_count": 6,
   "metadata": {
    "collapsed": true
   },
   "outputs": [],
   "source": [
    "import matplotlib.pyplot as plt\n",
    "import numpy as np"
   ]
  },
  {
   "cell_type": "code",
   "execution_count": 23,
   "metadata": {},
   "outputs": [
    {
     "data": {
      "image/png": "[encoded data removed]",
      "text/plain": [
       "<matplotlib.figure.Figure at 0x7fc1a04154a8>"
      ]
     },
     "metadata": {},
     "output_type": "display_data"
    }
   ],
   "source": [
    "koerper = range(140, 240, 10)\n",
    "gender = [0, 1]\n",
    "\n",
    "colors = ['b', 'r']\n",
    "\n",
    "#data = np.genfromtxt ('/tmp/VA_Testdaten_Gesamt.csv', delimiter=\";\")\n",
    "#print(data)\n",
    "\n",
    "m.csv_file='/tmp/VA_Testdaten_Gesamt.csv'\n",
    "m.owned_columns=[(True, 2), (False, 3), (False, 4)]\n",
    "data = m.parse_csv()\n",
    "\n",
    "for g in gender:\n",
    "    schuh = [m.predict([k, g]) for k in koerper]\n",
    "    plt.plot(koerper, schuh, colors[g])\n",
    "    data_x = [x[2] if x[0]==g else None for x in data]\n",
    "    data_y = [x[1] if x[0]==g else None for x in data]\n",
    "    plt.scatter(data_x, data_y, color=colors[g])\n",
    "plt.show()"
   ]
  },
  {
   "cell_type": "code",
   "execution_count": null,
   "metadata": {
    "collapsed": true
   },
   "outputs": [],
   "source": []
  }
 ],
 "metadata": {
  "kernelspec": {
   "display_name": "Python 3",
   "language": "python",
   "name": "python3"
  },
  "language_info": {
   "codemirror_mode": {
    "name": "ipython",
    "version": 3
   },
   "file_extension": ".py",
   "mimetype": "text/x-python",
   "name": "python",
   "nbconvert_exporter": "python",
   "pygments_lexer": "ipython3",
   "version": "3.6.2"
  }
 },
 "nbformat": 4,
 "nbformat_minor": 2
}
