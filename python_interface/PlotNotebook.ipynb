{
 "cells": [
  {
   "cell_type": "code",
   "execution_count": 1,
   "metadata": {},
   "outputs": [],
   "source": [
    "import MPCLinearRegression\n",
    "import matplotlib.pyplot as plt\n",
    "import numpy as np\n",
    "import csv\n",
    "\n",
    "m = MPCLinearRegression.MPCLinearRegression(\"localhost:1235\", \"141.20.33.236:1234\")"
   ]
  },
  {
   "cell_type": "code",
   "execution_count": null,
   "metadata": {
    "scrolled": true
   },
   "outputs": [
    {
     "name": "stdout",
     "output_type": "stream",
     "text": [
      "localhost:1235 waiting for peer 141.20.33.236:1234\n"
     ]
    }
   ],
   "source": [
    "m.fit(csv_file=\"../../data/VA_Testdaten_Körpergröße.csv\", owned_columns=\"4\")"
   ]
  },
  {
   "cell_type": "code",
   "execution_count": null,
   "metadata": {
    "scrolled": false
   },
   "outputs": [],
   "source": [
    "koerper = range(140, 240, 10)\n",
    "gender = [\"m\", \"w\"]\n",
    "\n",
    "colors = ['b', 'r']\n",
    "\n",
    "csv_file='../../data/VA_Testdaten_Gesamt.csv'\n",
    "columns = [4,3]\n",
    "data = [[],[]]\n",
    "\n",
    "with open(csv_file, \"r\") as f:\n",
    "    reader = csv.reader(f, delimiter=\";\")\n",
    "    for i, row in enumerate(reader):\n",
    "        is_man = False\n",
    "        for x in row:\n",
    "            if x == 'm':\n",
    "                is_man = True\n",
    "        if i != 0:\n",
    "            newrow = []\n",
    "            for col in columns:\n",
    "                cell = row[col]  \n",
    "                newrow.append(float(cell))\n",
    "            (data[0] if is_man else data[1]).append(newrow)\n",
    "\n",
    "# transpose matrix\n",
    "data[0] = [list(x) for x in zip(*data[0])]\n",
    "data[1] = [list(x) for x in zip(*data[1])]\n",
    "\n",
    "for i,g in enumerate(gender):\n",
    "    schuh = [m.predict({\"Geschlecht\": g, \"Koerpergroesse\": k}) for k in koerper]\n",
    "    plt.plot(koerper, schuh, colors[i])\n",
    "    plt.scatter(data[i][0], data[i][1], c=colors[i])\n",
    "plt.show()"
   ]
  },
  {
   "cell_type": "code",
   "execution_count": null,
   "metadata": {},
   "outputs": [],
   "source": []
  }
 ],
 "metadata": {
  "kernelspec": {
   "display_name": "Python 3",
   "language": "python",
   "name": "python3"
  },
  "language_info": {
   "codemirror_mode": {
    "name": "ipython",
    "version": 3
   },
   "file_extension": ".py",
   "mimetype": "text/x-python",
   "name": "python",
   "nbconvert_exporter": "python",
   "pygments_lexer": "ipython3",
   "version": "3.5.2"
  }
 },
 "nbformat": 4,
 "nbformat_minor": 2
}
